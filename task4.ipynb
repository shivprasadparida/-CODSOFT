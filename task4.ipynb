{
 "cells": [
  {
   "cell_type": "code",
   "execution_count": 1,
   "id": "1fbe38cc-7c21-472a-8121-227eee37cad7",
   "metadata": {},
   "outputs": [
    {
     "name": "stdout",
     "output_type": "stream",
     "text": [
      "Enter Choice \n"
     ]
    },
    {
     "name": "stdin",
     "output_type": "stream",
     "text": [
      "1.Play\n",
      "2.End\n",
      " 1\n",
      "Enter Rock, Paper or Scissors Rock\n"
     ]
    },
    {
     "name": "stdout",
     "output_type": "stream",
     "text": [
      "Paper\n",
      "computer won\n",
      "Enter Choice \n"
     ]
    },
    {
     "name": "stdin",
     "output_type": "stream",
     "text": [
      "1.Play\n",
      "2.End\n",
      " 1\n",
      "Enter Rock, Paper or Scissors Paper\n"
     ]
    },
    {
     "name": "stdout",
     "output_type": "stream",
     "text": [
      "Scissors\n",
      "Compurt Won\n",
      "Enter Choice \n"
     ]
    },
    {
     "name": "stdin",
     "output_type": "stream",
     "text": [
      "1.Play\n",
      "2.End\n",
      " 2\n"
     ]
    },
    {
     "name": "stdout",
     "output_type": "stream",
     "text": [
      "Score\n",
      "User= 0 Computer= 2\n"
     ]
    }
   ],
   "source": [
    "import random\n",
    "list1=[\"Rock\",\"Paper\",\"Scissors\"]\n",
    "user=0\n",
    "comp=0\n",
    "while True:\n",
    "  print(\"Enter Choice \")\n",
    "  x=int(input(\"1.Play\\n2.End\\n\"))\n",
    "  if x==1:\n",
    "    a=str(input(\"Enter Rock, Paper or Scissors\"))\n",
    "    b=random.choice(list1)\n",
    "    print(b)\n",
    "    if a==b:\n",
    "      print(\"Draw\")\n",
    "    elif a==\"Rock\" and b==\"Paper\":\n",
    "      print(\"computer won\")\n",
    "      comp=comp+1\n",
    "    elif a==\"Rock\" and b==\"Scissors\":\n",
    "      print(\"User Won\")\n",
    "      user=user+1\n",
    "    elif a==\"Paper\" and b==\"Scissors\":\n",
    "      print(\"Compurt Won\")\n",
    "      comp=comp+1\n",
    "    elif a==\"Paper\" and b==\"Rock\":\n",
    "      print(\"User Won\")\n",
    "      user=user+1\n",
    "    elif a==\"Scissors\" and b==\"Rock\":\n",
    "      print(\"Computer won\")\n",
    "      comp=comp+1\n",
    "    elif a==\"Scissors\" and b==\"Paper\":\n",
    "      print(\"User won\")\n",
    "      user=user+1\n",
    "  if x==2:\n",
    "    break\n",
    "print(\"Score\")\n",
    "print(\"User=\",user,\"Computer=\",comp)\n"
   ]
  },
  {
   "cell_type": "code",
   "execution_count": null,
   "id": "261e5902-be1b-451a-b077-5ea94a65031b",
   "metadata": {},
   "outputs": [],
   "source": []
  }
 ],
 "metadata": {
  "kernelspec": {
   "display_name": "Python 3 (ipykernel)",
   "language": "python",
   "name": "python3"
  },
  "language_info": {
   "codemirror_mode": {
    "name": "ipython",
    "version": 3
   },
   "file_extension": ".py",
   "mimetype": "text/x-python",
   "name": "python",
   "nbconvert_exporter": "python",
   "pygments_lexer": "ipython3",
   "version": "3.11.7"
  }
 },
 "nbformat": 4,
 "nbformat_minor": 5
}
