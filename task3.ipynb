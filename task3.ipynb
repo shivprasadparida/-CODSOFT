{
 "cells": [
  {
   "cell_type": "code",
   "execution_count": 1,
   "id": "6c5f0b7a-97dd-4125-8386-af98edab0e58",
   "metadata": {},
   "outputs": [
    {
     "name": "stdin",
     "output_type": "stream",
     "text": [
      "enter the length of the password : 10\n"
     ]
    },
    {
     "name": "stdout",
     "output_type": "stream",
     "text": [
      "y~WihH7PY5\n"
     ]
    }
   ],
   "source": [
    "import random\n",
    "str1=\"abcdefghijklmnopqrstwxyzABCDEFGHIJKLMNOPQRSTWXYZ123456789!@#$%^&*~\"\n",
    "length=int(input(\"enter the length of the password :\"))\n",
    "password=\"\"\n",
    "for i in range (length):\n",
    "  password+=random.choice(str1)\n",
    "print(password)"
   ]
  },
  {
   "cell_type": "code",
   "execution_count": null,
   "id": "f8f547bd-c4b3-4a7e-83df-0cc0fc783578",
   "metadata": {},
   "outputs": [],
   "source": []
  }
 ],
 "metadata": {
  "kernelspec": {
   "display_name": "Python 3 (ipykernel)",
   "language": "python",
   "name": "python3"
  },
  "language_info": {
   "codemirror_mode": {
    "name": "ipython",
    "version": 3
   },
   "file_extension": ".py",
   "mimetype": "text/x-python",
   "name": "python",
   "nbconvert_exporter": "python",
   "pygments_lexer": "ipython3",
   "version": "3.11.7"
  }
 },
 "nbformat": 4,
 "nbformat_minor": 5
}
