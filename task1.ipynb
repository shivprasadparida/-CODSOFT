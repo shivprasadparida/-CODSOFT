{
 "cells": [
  {
   "cell_type": "code",
   "execution_count": 2,
   "id": "24c299b9-a9b0-48bb-aa61-cc276bd3fe6e",
   "metadata": {},
   "outputs": [
    {
     "name": "stdout",
     "output_type": "stream",
     "text": [
      "TO DO LIST PROJECT\n",
      "___________________\n",
      "Enter a choice :\n",
      "1.Add Work\n",
      "2.Delete Work\n",
      "3.View Work\n",
      "4.Quit\n",
      "\n"
     ]
    },
    {
     "name": "stdin",
     "output_type": "stream",
     "text": [
      "Enter Choice : 1\n",
      "Enter the work  : Bike Riding\n"
     ]
    },
    {
     "name": "stdout",
     "output_type": "stream",
     "text": [
      "Work Added Successfully\n",
      "Enter a choice :\n",
      "1.Add Work\n",
      "2.Delete Work\n",
      "3.View Work\n",
      "4.Quit\n",
      "\n"
     ]
    },
    {
     "name": "stdin",
     "output_type": "stream",
     "text": [
      "Enter Choice : 1\n",
      "Enter the work  : breakfast\n"
     ]
    },
    {
     "name": "stdout",
     "output_type": "stream",
     "text": [
      "Work Added Successfully\n",
      "Enter a choice :\n",
      "1.Add Work\n",
      "2.Delete Work\n",
      "3.View Work\n",
      "4.Quit\n",
      "\n"
     ]
    },
    {
     "name": "stdin",
     "output_type": "stream",
     "text": [
      "Enter Choice : 3\n"
     ]
    },
    {
     "name": "stdout",
     "output_type": "stream",
     "text": [
      "Bike Riding\n",
      "breakfast\n",
      "Enter a choice :\n",
      "1.Add Work\n",
      "2.Delete Work\n",
      "3.View Work\n",
      "4.Quit\n",
      "\n"
     ]
    },
    {
     "name": "stdin",
     "output_type": "stream",
     "text": [
      "Enter Choice : 2\n",
      "Enter the work to delete  : breakfast\n"
     ]
    },
    {
     "name": "stdout",
     "output_type": "stream",
     "text": [
      "Work deleted successfully\n",
      "Enter a choice :\n",
      "1.Add Work\n",
      "2.Delete Work\n",
      "3.View Work\n",
      "4.Quit\n",
      "\n"
     ]
    },
    {
     "name": "stdin",
     "output_type": "stream",
     "text": [
      "Enter Choice : 3\n"
     ]
    },
    {
     "name": "stdout",
     "output_type": "stream",
     "text": [
      "Bike Riding\n",
      "Enter a choice :\n",
      "1.Add Work\n",
      "2.Delete Work\n",
      "3.View Work\n",
      "4.Quit\n",
      "\n"
     ]
    },
    {
     "name": "stdin",
     "output_type": "stream",
     "text": [
      "Enter Choice : 4\n"
     ]
    },
    {
     "name": "stdout",
     "output_type": "stream",
     "text": [
      "Thank You\n"
     ]
    }
   ],
   "source": [
    "\n",
    "list=[]\n",
    "def add_work():\n",
    "  work=input(\"Enter the work  :\")\n",
    "  list.append(work)\n",
    "  print(\"Work Added Successfully\")\n",
    "def delete_work():\n",
    "  try:\n",
    "    work=input(\"Enter the work to delete  :\")\n",
    "    list.remove(work)\n",
    "    print(\"Work deleted successfully\")\n",
    "  except ValueError:\n",
    "    print (\"Wrong Inputa\")\n",
    "def display_work():\n",
    "  for each in list:\n",
    "    print(each)\n",
    "print(\"TO DO LIST PROJECT\")\n",
    "print(\"___________________\")\n",
    "while True:\n",
    "  print(\"Enter a choice :\")\n",
    "  print(\"1.Add Work\\n2.Delete Work\\n3.View Work\\n4.Quit\\n\")\n",
    "\n",
    "  a=int(input(\"Enter Choice :\"))\n",
    "  if a==1:\n",
    "    add_work()\n",
    "  if a==2:\n",
    "    delete_work()\n",
    "  if a==3:\n",
    "    display_work()\n",
    "  if a==4:\n",
    "    print(\"Thank You\")\n",
    "    break\n"
   ]
  },
  {
   "cell_type": "code",
   "execution_count": null,
   "id": "9e6bf983-93ef-41e0-9f8b-5d2f5c746e63",
   "metadata": {},
   "outputs": [],
   "source": []
  }
 ],
 "metadata": {
  "kernelspec": {
   "display_name": "Python 3 (ipykernel)",
   "language": "python",
   "name": "python3"
  },
  "language_info": {
   "codemirror_mode": {
    "name": "ipython",
    "version": 3
   },
   "file_extension": ".py",
   "mimetype": "text/x-python",
   "name": "python",
   "nbconvert_exporter": "python",
   "pygments_lexer": "ipython3",
   "version": "3.11.7"
  }
 },
 "nbformat": 4,
 "nbformat_minor": 5
}
