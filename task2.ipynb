{
 "cells": [
  {
   "cell_type": "code",
   "execution_count": 1,
   "id": "1a2f2738-fe54-48d7-a95a-b44ef8ef0fae",
   "metadata": {},
   "outputs": [
    {
     "name": "stdout",
     "output_type": "stream",
     "text": [
      "BASIC CALCULATOR PROJECT\n",
      "_________________________\n"
     ]
    },
    {
     "name": "stdin",
     "output_type": "stream",
     "text": [
      "Enter 1st number : 10\n",
      "Enter basic arithmatic operator like +,-,*,/  : *\n",
      "Enter the second no  : 5\n"
     ]
    },
    {
     "name": "stdout",
     "output_type": "stream",
     "text": [
      "10 * 5 = 50\n"
     ]
    }
   ],
   "source": [
    "print(\"BASIC CALCULATOR PROJECT\")\n",
    "print(\"_________________________\")\n",
    "a=int(input(\"Enter 1st number :\"))\n",
    "choice=str(input(\"Enter basic arithmatic operator like +,-,*,/  :\"))\n",
    "b=int(input(\"Enter the second no  :\"))\n",
    "\n",
    "if choice==\"+\":\n",
    "  print(a,\"+\",b,\"=\",a+b)\n",
    "elif choice==\"-\":\n",
    "  print(a,\"-\",b,\"=\",a-b)\n",
    "elif choice==\"*\":\n",
    "  print(a,\"*\",b,\"=\",a*b)\n",
    "elif choice==\"/\":\n",
    "  print(a,\"/\",b,\"=\",a/b)\n",
    "else:\n",
    "  print(\"Invalid Input\")"
   ]
  },
  {
   "cell_type": "code",
   "execution_count": null,
   "id": "17fab0e6-48a2-4508-917c-c3ab0a961a1d",
   "metadata": {},
   "outputs": [],
   "source": []
  }
 ],
 "metadata": {
  "kernelspec": {
   "display_name": "Python 3 (ipykernel)",
   "language": "python",
   "name": "python3"
  },
  "language_info": {
   "codemirror_mode": {
    "name": "ipython",
    "version": 3
   },
   "file_extension": ".py",
   "mimetype": "text/x-python",
   "name": "python",
   "nbconvert_exporter": "python",
   "pygments_lexer": "ipython3",
   "version": "3.11.7"
  }
 },
 "nbformat": 4,
 "nbformat_minor": 5
}
